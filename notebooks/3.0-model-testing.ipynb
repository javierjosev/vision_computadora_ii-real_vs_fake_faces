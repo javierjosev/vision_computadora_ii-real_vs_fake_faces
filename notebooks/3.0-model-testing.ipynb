{
 "cells": [
  {
   "cell_type": "markdown",
   "metadata": {},
   "source": [
    "## Real vs Fake Faces - Model Testing"
   ]
  },
  {
   "cell_type": "markdown",
   "metadata": {},
   "source": [
    "Se utilizará el conjunto de datos de \"10k Real vs. Fake Faces\", inicialmente destinado para el proyecto \"Real vs Fake Face Detection project\" del Equipo de Ciencia de Datos de Michigan. Con la proliferación de deepfakes y manipulaciones de imágenes, surge la pregunta: ¿Es posible entrenar un algoritmo de aprendizaje automático para distinguir entre rostros reales y falsos?\n",
    "\n",
    "El objetivo de este apartado es testear diferentes modelos eligiendo como baseline un modelo convolucional simple:"
   ]
  },
  {
   "cell_type": "code",
   "execution_count": 1,
   "metadata": {},
   "outputs": [],
   "source": [
    "# Importamos librerías en general\n",
    "from IPython.display import display\n",
    "import matplotlib\n",
    "import matplotlib.pyplot as plt\n",
    "import numpy as np\n",
    "import os\n",
    "import pandas as pd\n",
    "from PIL import Image\n",
    "import random\n",
    "import seaborn as sns\n",
    "\n",
    "# Importamos desde sklearn\n",
    "from sklearn.model_selection import train_test_split\n",
    "from sklearn.metrics import accuracy_score\n",
    "from sklearn.metrics import classification_report, confusion_matrix\n",
    "\n",
    "# Importamos desde PyTorch\n",
    "import torch\n",
    "import torch.nn as nn\n",
    "import torch.optim as optim\n",
    "from torchvision import transforms, datasets\n",
    "from torch.utils.data import DataLoader, Dataset"
   ]
  },
  {
   "cell_type": "code",
   "execution_count": 2,
   "metadata": {},
   "outputs": [],
   "source": [
    "# Importamos los sets de datos\n",
    "train = pd.read_csv('../data/raw/train.csv')\n",
    "valid = pd.read_csv('../data/raw/valid.csv')"
   ]
  },
  {
   "cell_type": "code",
   "execution_count": 3,
   "metadata": {},
   "outputs": [],
   "source": [
    "# Agregamos la etapa de transformación\n",
    "def transform(image):\n",
    "    transform = transforms.Compose([\n",
    "        transforms.Resize((224, 224)),\n",
    "        transforms.ToTensor()\n",
    "    ])\n",
    "    return transform(image)"
   ]
  },
  {
   "cell_type": "code",
   "execution_count": 4,
   "metadata": {},
   "outputs": [],
   "source": [
    "# Generamos un dataloader\n",
    "class FacesDataset(Dataset):\n",
    "    def __init__(self, dataframe, root_dir, transform=None):\n",
    "        self.dataframe = dataframe\n",
    "        self.root_dir = root_dir\n",
    "        self.transform = transform\n",
    "\n",
    "    def __len__(self):\n",
    "        return len(self.dataframe)\n",
    "\n",
    "    def __getitem__(self, idx):\n",
    "        # columna 5 contiene el path relativo\n",
    "        img_name = os.path.join(self.root_dir, self.dataframe.iloc[idx, 5])\n",
    "        image = Image.open(img_name)\n",
    "        # columna 3 contiene el label numérico (real=1 | fake=0)\n",
    "        label = self.dataframe.iloc[idx, 3]\n",
    "\n",
    "        if self.transform:\n",
    "            image = self.transform(image)\n",
    "\n",
    "        return image, label"
   ]
  },
  {
   "cell_type": "code",
   "execution_count": 5,
   "metadata": {},
   "outputs": [],
   "source": [
    "# Tomamos los datasets \n",
    "train_dataset = FacesDataset(dataframe=train, root_dir='../data/raw/', transform=transform)\n",
    "valid_dataset = FacesDataset(dataframe=valid, root_dir='../data/raw/', transform=transform)\n",
    "\n",
    "# Generamos los dataloaders\n",
    "train_loader = DataLoader(train_dataset, batch_size=32, shuffle=True)\n",
    "valid_loader = DataLoader(valid_dataset, batch_size=32, shuffle=False)"
   ]
  },
  {
   "cell_type": "code",
   "execution_count": 6,
   "metadata": {},
   "outputs": [],
   "source": [
    "# Generamos el device de uso\n",
    "# mps es para Macs con chip M1\n",
    "device = torch.device(\"mps\" if torch.backends.mps.is_available() else \"cpu\")\n",
    "\n",
    "# cuda es para device con Nvidia\n",
    "#device = torch.device(\"cuda\" if torch.cuda.is_available() else \"cpu\")"
   ]
  },
  {
   "cell_type": "code",
   "execution_count": 7,
   "metadata": {},
   "outputs": [],
   "source": [
    "# Definimos una función que entrene el modelo elegido\n",
    "def train_model(model, \n",
    "                optimizer, \n",
    "                criterion = nn.CrossEntropyLoss(), \n",
    "                train_loader = train_loader, \n",
    "                num_epochs=10, \n",
    "                device=device):\n",
    "    seed = 42\n",
    "    torch.manual_seed(seed)\n",
    "    np.random.seed(seed)\n",
    "    random.seed(seed)\n",
    "    \n",
    "    model = model.to(device)\n",
    "    for epoch in range(num_epochs):\n",
    "        model.train()\n",
    "        running_loss = 0.0\n",
    "        for images, labels in train_loader:\n",
    "            images = images.to(device)\n",
    "            labels = labels.to(device)\n",
    "            optimizer.zero_grad()\n",
    "            outputs = model(images)\n",
    "            loss = criterion(outputs, labels)\n",
    "            loss.backward()\n",
    "            optimizer.step()\n",
    "            running_loss += loss.item()\n",
    "        print(f'Epoch {epoch+1}/{num_epochs}, Loss: {running_loss/len(train_loader)}')"
   ]
  },
  {
   "cell_type": "code",
   "execution_count": 12,
   "metadata": {},
   "outputs": [],
   "source": [
    "# Generamos una función que permita evaluar el modelo\n",
    "def evaluate_model(model, \n",
    "                   valid_loader = valid_loader, \n",
    "                   device=device):\n",
    "    seed = 42\n",
    "    torch.manual_seed(seed)\n",
    "    np.random.seed(seed)\n",
    "    random.seed(seed)\n",
    "    \n",
    "    model.eval()\n",
    "    all_preds = []\n",
    "    all_labels = []\n",
    "\n",
    "    with torch.no_grad():\n",
    "        for images, labels in valid_loader:\n",
    "            images = images.to(device)\n",
    "            labels = labels.to(device)\n",
    "            outputs = model(images)\n",
    "            _, predicted = torch.max(outputs, 1)\n",
    "\n",
    "            all_preds.extend(predicted.cpu().numpy())\n",
    "            all_labels.extend(labels.cpu().numpy())\n",
    "\n",
    "    print(f'Accuracy: {accuracy_score(all_labels, all_preds)}')\n",
    "\n",
    "    # report\n",
    "    print(\"Classification Report:\")\n",
    "    print(classification_report(all_labels, all_preds))\n",
    "\n",
    "    # confusion matrix\n",
    "    cm = confusion_matrix(all_labels, all_preds)\n",
    "    plt.figure(figsize=(10, 7))\n",
    "    sns.heatmap(cm, annot=True, fmt='g')\n",
    "    plt.xlabel('Predicted labels')\n",
    "    plt.ylabel('True labels')\n",
    "    plt.show()"
   ]
  },
  {
   "cell_type": "code",
   "execution_count": 13,
   "metadata": {},
   "outputs": [],
   "source": [
    "# Definimos una función que plotee los resultados\n",
    "def plot_predictions(model, \n",
    "                     valid_loader = valid_loader, \n",
    "                     label_map = {0: 'fake', 1: 'real'}, \n",
    "                     device=device):\n",
    "    plt.figure(figsize=(10, 10))\n",
    "    \n",
    "    images, labels = next(iter(valid_loader))\n",
    "    \n",
    "    images = images.to(device)\n",
    "    labels = labels.to(device)\n",
    "    outputs = model(images)\n",
    "    _, predicted = torch.max(outputs, 1)\n",
    "\n",
    "    for i in range(9):\n",
    "        plt.subplot(3, 3, i + 1)\n",
    "        plt.imshow(images[i].cpu().permute(1, 2, 0))\n",
    "        color = 'green' if predicted[i].item() == labels[i].item() else 'red'\n",
    "        plt.title(f'Actual: {label_map[labels[i].item()]}, Predicted: {label_map[predicted[i].item()]}', color=color)\n",
    "        plt.axis('off')\n",
    "\n",
    "    plt.show()"
   ]
  },
  {
   "cell_type": "markdown",
   "metadata": {},
   "source": [
    "### CNN"
   ]
  },
  {
   "cell_type": "code",
   "execution_count": 10,
   "metadata": {},
   "outputs": [],
   "source": [
    "# Probamos con un modelo simple convolucional\n",
    "class ConvBaselineModel(torch.nn.Module):\n",
    "    def __init__(self, output_units):\n",
    "        super(ConvBaselineModel, self).__init__()\n",
    "        self.conv1 = nn.Conv2d(in_channels=3, out_channels=32, kernel_size=3, stride=1, padding='same')\n",
    "        self.pool1 = nn.MaxPool2d(kernel_size=2, stride=2)\n",
    "        self.conv2 = nn.Conv2d(in_channels=32, out_channels=64, kernel_size=3, stride=1, padding='same')\n",
    "        self.pool2 = nn.MaxPool2d(kernel_size=2, stride=2)\n",
    "        self.conv3 = nn.Conv2d(in_channels=64, out_channels=128, kernel_size=3, stride=1, padding='same')\n",
    "        self.pool3 = nn.MaxPool2d(kernel_size=2, stride=2)\n",
    "        self.fc1 = nn.Linear(in_features=100352, out_features=512)\n",
    "        self.fc2 = nn.Linear(in_features=512, out_features=output_units)\n",
    "\n",
    "    def forward(self, x):\n",
    "        x = self.pool1(torch.relu(self.conv1(x)))\n",
    "        x = self.pool2(torch.relu(self.conv2(x)))\n",
    "        x = self.pool3(torch.relu(self.conv3(x)))\n",
    "        x = torch.flatten(x, 1)\n",
    "        x = torch.relu(self.fc1(x))\n",
    "        x = self.fc2(x)\n",
    "        return x"
   ]
  },
  {
   "cell_type": "code",
   "execution_count": 17,
   "metadata": {},
   "outputs": [
    {
     "name": "stdout",
     "output_type": "stream",
     "text": [
      "Epoch 1/10, Loss: 0.6610575239407962\n",
      "Epoch 2/10, Loss: 0.571735860686324\n",
      "Epoch 3/10, Loss: 0.5068535133856072\n",
      "Epoch 4/10, Loss: 0.44136752807386387\n",
      "Epoch 5/10, Loss: 0.3844389528988703\n",
      "Epoch 6/10, Loss: 0.3222981671628342\n",
      "Epoch 7/10, Loss: 0.26198205746472153\n",
      "Epoch 8/10, Loss: 0.21163652463046384\n",
      "Epoch 9/10, Loss: 0.16785499177975197\n",
      "Epoch 10/10, Loss: 0.12215330772374046\n"
     ]
    }
   ],
   "source": [
    "first_model = ConvBaselineModel(2)\n",
    "optimizer = torch.optim.Adam(first_model.parameters(), lr=0.0001)\n",
    "train_model(first_model, optimizer, num_epochs = 10)"
   ]
  },
  {
   "cell_type": "code",
   "execution_count": 18,
   "metadata": {},
   "outputs": [
    {
     "name": "stdout",
     "output_type": "stream",
     "text": [
      "Accuracy: 0.8103333333333333\n",
      "Classification Report:\n",
      "              precision    recall  f1-score   support\n",
      "\n",
      "           0       0.77      0.88      0.82      1500\n",
      "           1       0.86      0.74      0.80      1500\n",
      "\n",
      "    accuracy                           0.81      3000\n",
      "   macro avg       0.82      0.81      0.81      3000\n",
      "weighted avg       0.82      0.81      0.81      3000\n",
      "\n"
     ]
    },
    {
     "data": {
      "image/png": "[encoded data removed]",
      "text/plain": [
       "<Figure size 1000x700 with 2 Axes>"
      ]
     },
     "metadata": {},
     "output_type": "display_data"
    }
   ],
   "source": [
    "evaluate_model(first_model)"
   ]
  },
  {
   "cell_type": "code",
   "execution_count": 20,
   "metadata": {},
   "outputs": [],
   "source": [
    "# plot_predictions(first_model)"
   ]
  },
  {
   "cell_type": "code",
   "execution_count": null,
   "metadata": {},
   "outputs": [],
   "source": []
  }
 ],
 "metadata": {
  "kernelspec": {
   "display_name": "base",
   "language": "python",
   "name": "python3"
  },
  "language_info": {
   "codemirror_mode": {
    "name": "ipython",
    "version": 3
   },
   "file_extension": ".py",
   "mimetype": "text/x-python",
   "name": "python",
   "nbconvert_exporter": "python",
   "pygments_lexer": "ipython3",
   "version": "3.11.7"
  }
 },
 "nbformat": 4,
 "nbformat_minor": 2
}
